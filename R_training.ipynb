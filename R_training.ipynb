{
 "cells": [
  {
   "cell_type": "markdown",
   "id": "089ff79e",
   "metadata": {},
   "source": [
    "#Advanced R training - functions"
   ]
  },
  {
   "cell_type": "code",
   "execution_count": 9,
   "id": "bcef4325",
   "metadata": {},
   "outputs": [],
   "source": [
    "library(tidyverse)\n",
    "filter <- dplyr::filter"
   ]
  },
  {
   "cell_type": "code",
   "execution_count": 10,
   "id": "c1f22ee3",
   "metadata": {},
   "outputs": [],
   "source": [
    "#gather functions in base R\n",
    "objs <- mget(ls(\"package:base\"), inherits = TRUE)\n",
    "funs <- Filter(is.function, objs)"
   ]
  },
  {
   "cell_type": "code",
   "execution_count": 13,
   "id": "f7653d9c",
   "metadata": {},
   "outputs": [
    {
     "data": {
      "text/html": [
       "<strong>scan:</strong> 22"
      ],
      "text/latex": [
       "\\textbf{scan:} 22"
      ],
      "text/markdown": [
       "**scan:** 22"
      ],
      "text/plain": [
       "scan \n",
       "  22 "
      ]
     },
     "metadata": {},
     "output_type": "display_data"
    }
   ],
   "source": [
    "#Check what functions have the highest inputs\n",
    "num_of_inputs <- lapply(funs, function(x) length(formals(x))) %>% unlist %>% sort(decreasing = T)\n",
    "num_of_inputs[1]"
   ]
  },
  {
   "cell_type": "code",
   "execution_count": 16,
   "id": "d351cf0b",
   "metadata": {},
   "outputs": [
    {
     "data": {
      "text/html": [
       "<style>\n",
       ".list-inline {list-style: none; margin:0; padding: 0}\n",
       ".list-inline>li {display: inline-block}\n",
       ".list-inline>li:not(:last-child)::after {content: \"\\00b7\"; padding: 0 .5ex}\n",
       "</style>\n",
       "<ol class=list-inline><li>'file'</li><li>'what'</li><li>'nmax'</li><li>'n'</li><li>'sep'</li><li>'quote'</li><li>'dec'</li><li>'skip'</li><li>'nlines'</li><li>'na.strings'</li><li>'flush'</li><li>'fill'</li><li>'strip.white'</li><li>'quiet'</li><li>'blank.lines.skip'</li><li>'multi.line'</li><li>'comment.char'</li><li>'allowEscapes'</li><li>'fileEncoding'</li><li>'encoding'</li><li>'text'</li><li>'skipNul'</li></ol>\n"
      ],
      "text/latex": [
       "\\begin{enumerate*}\n",
       "\\item 'file'\n",
       "\\item 'what'\n",
       "\\item 'nmax'\n",
       "\\item 'n'\n",
       "\\item 'sep'\n",
       "\\item 'quote'\n",
       "\\item 'dec'\n",
       "\\item 'skip'\n",
       "\\item 'nlines'\n",
       "\\item 'na.strings'\n",
       "\\item 'flush'\n",
       "\\item 'fill'\n",
       "\\item 'strip.white'\n",
       "\\item 'quiet'\n",
       "\\item 'blank.lines.skip'\n",
       "\\item 'multi.line'\n",
       "\\item 'comment.char'\n",
       "\\item 'allowEscapes'\n",
       "\\item 'fileEncoding'\n",
       "\\item 'encoding'\n",
       "\\item 'text'\n",
       "\\item 'skipNul'\n",
       "\\end{enumerate*}\n"
      ],
      "text/markdown": [
       "1. 'file'\n",
       "2. 'what'\n",
       "3. 'nmax'\n",
       "4. 'n'\n",
       "5. 'sep'\n",
       "6. 'quote'\n",
       "7. 'dec'\n",
       "8. 'skip'\n",
       "9. 'nlines'\n",
       "10. 'na.strings'\n",
       "11. 'flush'\n",
       "12. 'fill'\n",
       "13. 'strip.white'\n",
       "14. 'quiet'\n",
       "15. 'blank.lines.skip'\n",
       "16. 'multi.line'\n",
       "17. 'comment.char'\n",
       "18. 'allowEscapes'\n",
       "19. 'fileEncoding'\n",
       "20. 'encoding'\n",
       "21. 'text'\n",
       "22. 'skipNul'\n",
       "\n",
       "\n"
      ],
      "text/plain": [
       " [1] \"file\"             \"what\"             \"nmax\"             \"n\"               \n",
       " [5] \"sep\"              \"quote\"            \"dec\"              \"skip\"            \n",
       " [9] \"nlines\"           \"na.strings\"       \"flush\"            \"fill\"            \n",
       "[13] \"strip.white\"      \"quiet\"            \"blank.lines.skip\" \"multi.line\"      \n",
       "[17] \"comment.char\"     \"allowEscapes\"     \"fileEncoding\"     \"encoding\"        \n",
       "[21] \"text\"             \"skipNul\"         "
      ]
     },
     "metadata": {},
     "output_type": "display_data"
    }
   ],
   "source": [
    "formals(scan) %>% names"
   ]
  },
  {
   "cell_type": "code",
   "execution_count": null,
   "id": "ac14f275",
   "metadata": {},
   "outputs": [],
   "source": []
  }
 ],
 "metadata": {
  "kernelspec": {
   "display_name": "R",
   "language": "R",
   "name": "ir"
  },
  "language_info": {
   "codemirror_mode": "r",
   "file_extension": ".r",
   "mimetype": "text/x-r-source",
   "name": "R",
   "pygments_lexer": "r",
   "version": "4.2.3"
  }
 },
 "nbformat": 4,
 "nbformat_minor": 5
}
