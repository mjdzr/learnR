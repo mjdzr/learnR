{
 "cells": [
  {
   "cell_type": "markdown",
   "id": "089ff79e",
   "metadata": {},
   "source": [
    "#Advanced R training - functions"
   ]
  },
  {
   "cell_type": "code",
   "execution_count": 3,
   "id": "c1f22ee3",
   "metadata": {},
   "outputs": [],
   "source": [
    "#gather functions in base R\n",
    "objs <- mget(ls(\"package:base\"), inherits = TRUE)\n",
    "funs <- Filter(is.function, objs)"
   ]
  },
  {
   "cell_type": "code",
   "execution_count": 5,
   "id": "f7653d9c",
   "metadata": {},
   "outputs": [
    {
     "data": {
      "text/html": [
       "<strong>scan:</strong> 22"
      ],
      "text/latex": [
       "\\textbf{scan:} 22"
      ],
      "text/markdown": [
       "**scan:** 22"
      ],
      "text/plain": [
       "scan \n",
       "  22 "
      ]
     },
     "metadata": {},
     "output_type": "display_data"
    }
   ],
   "source": [
    "#Check what functions have the highest inputs\n",
    "num_of_inputs <- lapply(funs, function(x) length(formals(x))) %>% unlist %>% sort(decreasing = T)\n",
    "num_of_inputs[1]$"
   ]
  },
  {
   "cell_type": "code",
   "execution_count": 6,
   "id": "d351cf0b",
   "metadata": {},
   "outputs": [
    {
     "data": {
      "text/plain": [
       "$file\n",
       "[1] \"\"\n",
       "\n",
       "$what\n",
       "double()\n",
       "\n",
       "$nmax\n",
       "-1L\n",
       "\n",
       "$n\n",
       "-1L\n",
       "\n",
       "$sep\n",
       "[1] \"\"\n",
       "\n",
       "$quote\n",
       "if (identical(sep, \"\\n\")) \"\" else \"'\\\"\"\n",
       "\n",
       "$dec\n",
       "[1] \".\"\n",
       "\n",
       "$skip\n",
       "[1] 0\n",
       "\n",
       "$nlines\n",
       "[1] 0\n",
       "\n",
       "$na.strings\n",
       "[1] \"NA\"\n",
       "\n",
       "$flush\n",
       "[1] FALSE\n",
       "\n",
       "$fill\n",
       "[1] FALSE\n",
       "\n",
       "$strip.white\n",
       "[1] FALSE\n",
       "\n",
       "$quiet\n",
       "[1] FALSE\n",
       "\n",
       "$blank.lines.skip\n",
       "[1] TRUE\n",
       "\n",
       "$multi.line\n",
       "[1] TRUE\n",
       "\n",
       "$comment.char\n",
       "[1] \"\"\n",
       "\n",
       "$allowEscapes\n",
       "[1] FALSE\n",
       "\n",
       "$fileEncoding\n",
       "[1] \"\"\n",
       "\n",
       "$encoding\n",
       "[1] \"unknown\"\n",
       "\n",
       "$text\n",
       "\n",
       "\n",
       "$skipNul\n",
       "[1] FALSE\n"
      ]
     },
     "metadata": {},
     "output_type": "display_data"
    }
   ],
   "source": [
    "formals(scan)"
   ]
  },
  {
   "cell_type": "code",
   "execution_count": null,
   "id": "ac14f275",
   "metadata": {},
   "outputs": [],
   "source": []
  }
 ],
 "metadata": {
  "kernelspec": {
   "display_name": "R",
   "language": "R",
   "name": "ir"
  },
  "language_info": {
   "codemirror_mode": "r",
   "file_extension": ".r",
   "mimetype": "text/x-r-source",
   "name": "R",
   "pygments_lexer": "r",
   "version": "4.2.3"
  }
 },
 "nbformat": 4,
 "nbformat_minor": 5
}
